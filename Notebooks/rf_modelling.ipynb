{
 "cells": [
  {
   "cell_type": "code",
   "execution_count": 103,
   "metadata": {},
   "outputs": [],
   "source": [
    "import pandas as pd"
   ]
  },
  {
   "cell_type": "code",
   "execution_count": 104,
   "metadata": {},
   "outputs": [],
   "source": [
    "df = pd.read_csv(('../data/feature_engineered.csv'))\n",
    "df.set_index('Timestamp', inplace=True)"
   ]
  },
  {
   "cell_type": "code",
   "execution_count": 105,
   "metadata": {},
   "outputs": [],
   "source": [
    "train_test_split = 0.2\n",
    "train_size = int((1 - train_test_split) * len(df))\n",
    "df_train = df.iloc[:train_size]\n",
    "df_test  = df.iloc[train_size:]"
   ]
  },
  {
   "cell_type": "code",
   "execution_count": 106,
   "metadata": {},
   "outputs": [
    {
     "name": "stdout",
     "output_type": "stream",
     "text": [
      "(406, 23)\n",
      "(102, 23)\n"
     ]
    }
   ],
   "source": [
    "print(df_train.shape)\n",
    "print(df_test.shape)"
   ]
  },
  {
   "cell_type": "code",
   "execution_count": 107,
   "metadata": {},
   "outputs": [],
   "source": [
    "tune_split = int(0.8 * len(df_train))\n",
    "train_tune = df_train.iloc[:tune_split]\n",
    "val_tune   = df_train.iloc[tune_split:]\n"
   ]
  },
  {
   "cell_type": "code",
   "execution_count": 108,
   "metadata": {},
   "outputs": [],
   "source": [
    "from skopt import BayesSearchCV\n",
    "from skopt.space import Real, Integer\n",
    "from sklearn.ensemble import RandomForestRegressor\n",
    "from sklearn.model_selection import TimeSeriesSplit"
   ]
  },
  {
   "cell_type": "code",
   "execution_count": 109,
   "metadata": {},
   "outputs": [
    {
     "data": {
      "text/plain": [
       "Index(['Unnamed: 0', 'Voltage (V)', 'Current (A)', 'Power Consumption (kW)',\n",
       "       'Reactive Power (kVAR)', 'Power Factor', 'Solar Power (kW)',\n",
       "       'Wind Power (kW)', 'Grid Supply (kW)', 'Voltage Fluctuation (%)',\n",
       "       'Temperature (°C)', 'Humidity (%)', 'Electricity Price (USD/kWh)',\n",
       "       'Predicted Load (kW)', 'load_da', 'load_d2', 'lag_1', 'lag_2', 'lag_3',\n",
       "       'pct_tmp_chg', 'pow_cons_chg', 'roll_mean_load3', 'roll_std_load3'],\n",
       "      dtype='object')"
      ]
     },
     "execution_count": 109,
     "metadata": {},
     "output_type": "execute_result"
    }
   ],
   "source": [
    "df.columns\n"
   ]
  },
  {
   "cell_type": "code",
   "execution_count": null,
   "metadata": {},
   "outputs": [],
   "source": [
    "X_train_tune = train_tune.drop(['Power Consumption (kW)', 'load_da', 'load_d2'], axis=1)\n",
    "y_train_tune = train_tune['load_da']\n",
    "\n",
    "X_val_tune = val_tune.drop(['Power Consumption (kW)', 'load_da', 'load_d2'], axis=1)\n",
    "y_val_tune = val_tune['load_da']\n"
   ]
  },
  {
   "cell_type": "code",
   "execution_count": 111,
   "metadata": {},
   "outputs": [
    {
     "name": "stderr",
     "output_type": "stream",
     "text": [
      "/Users/pranavsrinivasvenkatesh/anaconda3/envs/streamlitenv/lib/python3.11/site-packages/numpy/ma/core.py:2820: RuntimeWarning: invalid value encountered in cast\n",
      "  _data = np.array(data, dtype=dtype, copy=copy,\n"
     ]
    },
    {
     "name": "stdout",
     "output_type": "stream",
     "text": [
      "Best Parameters: OrderedDict([('bootstrap', True), ('max_depth', 3), ('max_features', 0.203672359239111), ('min_samples_leaf', 14), ('min_samples_split', 9), ('n_estimators', 482)])\n",
      "Best CV Score: 0.30699414969670175\n"
     ]
    }
   ],
   "source": [
    "rf = RandomForestRegressor(random_state=42, n_jobs=-1, oob_score=True)\n",
    "\n",
    "param_space = {\n",
    "    'n_estimators': Integer(250, 600),\n",
    "    'max_depth': Integer(3, 8),\n",
    "    'min_samples_split': Integer(4, 12),\n",
    "    'min_samples_leaf': Integer(12, 16),\n",
    "    'max_features': Real(0.2, 0.6),\n",
    "    'bootstrap': [True],\n",
    "}\n",
    "\n",
    "tscv = TimeSeriesSplit(n_splits=6)\n",
    "\n",
    "opt = BayesSearchCV(\n",
    "    estimator=rf,\n",
    "    search_spaces=param_space,\n",
    "    n_iter=30,\n",
    "    cv=tscv,\n",
    "    scoring='neg_root_mean_squared_error',\n",
    "    n_jobs=-1,\n",
    "    random_state=42,\n",
    "    verbose=0\n",
    ")\n",
    "\n",
    "opt.fit(X_train_tune, y_train_tune)\n",
    "print(\"Best Parameters:\", opt.best_params_)\n",
    "print(\"Best CV Score:\", -opt.best_score_)\n"
   ]
  },
  {
   "cell_type": "code",
   "execution_count": 112,
   "metadata": {},
   "outputs": [
    {
     "name": "stderr",
     "output_type": "stream",
     "text": [
      "/Users/pranavsrinivasvenkatesh/anaconda3/envs/streamlitenv/lib/python3.11/site-packages/sklearn/metrics/_regression.py:492: FutureWarning: 'squared' is deprecated in version 1.4 and will be removed in 1.6. To calculate the root mean squared error, use the function'root_mean_squared_error'.\n",
      "  warnings.warn(\n",
      "/Users/pranavsrinivasvenkatesh/anaconda3/envs/streamlitenv/lib/python3.11/site-packages/sklearn/metrics/_regression.py:492: FutureWarning: 'squared' is deprecated in version 1.4 and will be removed in 1.6. To calculate the root mean squared error, use the function'root_mean_squared_error'.\n",
      "  warnings.warn(\n"
     ]
    },
    {
     "data": {
      "image/png": "[encoded data removed]",
      "text/plain": [
       "<Figure size 600x400 with 1 Axes>"
      ]
     },
     "metadata": {},
     "output_type": "display_data"
    }
   ],
   "source": [
    "from sklearn.metrics import mean_squared_error\n",
    "import matplotlib.pyplot as plt\n",
    "best_rf = opt.best_estimator_\n",
    "\n",
    "train_pred = best_rf.predict(X_train_tune)\n",
    "val_pred   = best_rf.predict(X_val_tune)\n",
    "\n",
    "train_rmse = mean_squared_error(y_train_tune, train_pred, squared=False)\n",
    "val_rmse   = mean_squared_error(y_val_tune, val_pred, squared=False)\n",
    "\n",
    "plt.figure(figsize=(6, 4))\n",
    "plt.bar(['Train', 'Validation'], [train_rmse, val_rmse],\n",
    "        color=['teal', 'orange'], alpha=0.8)\n",
    "plt.title('Train vs Validation RMSE (Tuned RF + OOB)')\n",
    "plt.ylabel('RMSE')\n",
    "plt.grid(axis='y', linestyle='--', alpha=0.6)\n",
    "plt.tight_layout()\n",
    "plt.show()\n"
   ]
  },
  {
   "cell_type": "code",
   "execution_count": 113,
   "metadata": {},
   "outputs": [
    {
     "name": "stderr",
     "output_type": "stream",
     "text": [
      "/Users/pranavsrinivasvenkatesh/anaconda3/envs/streamlitenv/lib/python3.11/site-packages/sklearn/metrics/_regression.py:492: FutureWarning: 'squared' is deprecated in version 1.4 and will be removed in 1.6. To calculate the root mean squared error, use the function'root_mean_squared_error'.\n",
      "  warnings.warn(\n"
     ]
    }
   ],
   "source": [
    "X_test_tune = df_test.drop(['Power Consumption (kW)', 'load_da', 'load_d2'], axis=1)\n",
    "y_test_tune = df_test['load_da']\n",
    "\n",
    "test_pred = best_rf.predict(X_test_tune)\n",
    "\n",
    "test_rmse = mean_squared_error(y_test_tune, test_pred, squared=False)\n"
   ]
  },
  {
   "cell_type": "code",
   "execution_count": 114,
   "metadata": {},
   "outputs": [
    {
     "name": "stdout",
     "output_type": "stream",
     "text": [
      "Train RMSE: 0.2764\n",
      "Validation RMSE: 0.3527\n",
      "Test RMSE: 0.3037\n"
     ]
    }
   ],
   "source": [
    "from sklearn.metrics import mean_absolute_error\n",
    "train_mae = mean_absolute_error(y_train_tune, train_pred)\n",
    "test_mae = mean_absolute_error(y_test_tune, test_pred)\n",
    "val_mae = mean_absolute_error(y_val_tune, val_pred)\n",
    "print(f\"Train RMSE: {train_rmse:.4f}\")\n",
    "print(f\"Validation RMSE: {val_rmse:.4f}\")\n",
    "print(f\"Test RMSE: {test_rmse:.4f}\")"
   ]
  },
  {
   "cell_type": "markdown",
   "metadata": {},
   "source": [
    "Train RMSE: 0.2561\n",
    "Validation RMSE: 0.3536\n",
    "Test RMSE: 0.3079\n"
   ]
  },
  {
   "cell_type": "code",
   "execution_count": null,
   "metadata": {},
   "outputs": [],
   "source": [
    "\n",
    "\n"
   ]
  },
  {
   "cell_type": "code",
   "execution_count": null,
   "metadata": {},
   "outputs": [],
   "source": [
    "X_train_tune = train_tune.drop(['Power Consumption (kW)', 'load_da', 'load_d2'], axis=1)\n",
    "y_train_tune = train_tune['load_d2']\n",
    "\n",
    "X_val_tune = val_tune.drop(['Power Consumption (kW)', 'load_da', 'load_d2'], axis=1)\n",
    "y_val_tune = val_tune['load_d2']"
   ]
  },
  {
   "cell_type": "code",
   "execution_count": null,
   "metadata": {},
   "outputs": [
    {
     "name": "stderr",
     "output_type": "stream",
     "text": [
      "/Users/pranavsrinivasvenkatesh/anaconda3/envs/streamlitenv/lib/python3.11/site-packages/numpy/ma/core.py:2820: RuntimeWarning: invalid value encountered in cast\n",
      "  _data = np.array(data, dtype=dtype, copy=copy,\n"
     ]
    },
    {
     "name": "stdout",
     "output_type": "stream",
     "text": [
      "Best Parameters: OrderedDict([('bootstrap', True), ('max_depth', 3), ('max_features', 0.24031309098065493), ('min_samples_leaf', 14), ('min_samples_split', 11), ('n_estimators', 478)])\n",
      "Best CV Score: 0.30700327626909035\n"
     ]
    },
    {
     "name": "stderr",
     "output_type": "stream",
     "text": [
      "/Users/pranavsrinivasvenkatesh/anaconda3/envs/streamlitenv/lib/python3.11/site-packages/sklearn/metrics/_regression.py:492: FutureWarning: 'squared' is deprecated in version 1.4 and will be removed in 1.6. To calculate the root mean squared error, use the function'root_mean_squared_error'.\n",
      "  warnings.warn(\n"
     ]
    }
   ],
   "source": [
    "rf = RandomForestRegressor(random_state=42, n_jobs=-1, oob_score=True)\n",
    "\n",
    "param_space = {\n",
    "    'n_estimators': Integer(250, 600),\n",
    "    'max_depth': Integer(3, 8),\n",
    "    'min_samples_split': Integer(4, 12),\n",
    "    'min_samples_leaf': Integer(12, 16),\n",
    "    'max_features': Real(0.2, 0.6),\n",
    "    'bootstrap': [True],\n",
    "}\n",
    "\n",
    "tscv = TimeSeriesSplit(n_splits=6)\n",
    "\n",
    "opt = BayesSearchCV(\n",
    "    estimator=rf,\n",
    "    search_spaces=param_space,\n",
    "    n_iter=30,\n",
    "    cv=tscv,\n",
    "    scoring='neg_root_mean_squared_error',\n",
    "    n_jobs=-1,\n",
    "    random_state=42,\n",
    "    verbose=0\n",
    ")\n",
    "\n",
    "opt.fit(X_train_tune, y_train_tune)\n",
    "print(\"Best Parameters:\", opt.best_params_)\n",
    "print(\"Best CV Score:\", -opt.best_score_)\n",
    "\n",
    "\n"
   ]
  },
  {
   "cell_type": "code",
   "execution_count": 117,
   "metadata": {},
   "outputs": [
    {
     "name": "stdout",
     "output_type": "stream",
     "text": [
      "Train RMSE: 0.2764\n",
      "Validation RMSE: 0.3527\n",
      "Test RMSE: 0.2821\n"
     ]
    },
    {
     "name": "stderr",
     "output_type": "stream",
     "text": [
      "/Users/pranavsrinivasvenkatesh/anaconda3/envs/streamlitenv/lib/python3.11/site-packages/sklearn/metrics/_regression.py:492: FutureWarning: 'squared' is deprecated in version 1.4 and will be removed in 1.6. To calculate the root mean squared error, use the function'root_mean_squared_error'.\n",
      "  warnings.warn(\n"
     ]
    }
   ],
   "source": [
    "X_test_tune = df_test.drop(['Power Consumption (kW)', 'load_da', 'load_d2'], axis=1)\n",
    "y_test_tune = df_test['load_d2']\n",
    "\n",
    "test_pred = best_rf.predict(X_test_tune)\n",
    "\n",
    "test_rmse = mean_squared_error(y_test_tune, test_pred, squared=False)\n",
    "\n",
    "train_mae = mean_absolute_error(y_train_tune, train_pred)\n",
    "test_mae = mean_absolute_error(y_test_tune, test_pred)\n",
    "val_mae = mean_absolute_error(y_val_tune, val_pred)\n",
    "print(f\"Train RMSE: {train_rmse:.4f}\")\n",
    "print(f\"Validation RMSE: {val_rmse:.4f}\")\n",
    "print(f\"Test RMSE: {test_rmse:.4f}\")"
   ]
  }
 ],
 "metadata": {
  "kernelspec": {
   "display_name": "streamlitenv",
   "language": "python",
   "name": "python3"
  },
  "language_info": {
   "codemirror_mode": {
    "name": "ipython",
    "version": 3
   },
   "file_extension": ".py",
   "mimetype": "text/x-python",
   "name": "python",
   "nbconvert_exporter": "python",
   "pygments_lexer": "ipython3",
   "version": "3.11.9"
  }
 },
 "nbformat": 4,
 "nbformat_minor": 2
}
